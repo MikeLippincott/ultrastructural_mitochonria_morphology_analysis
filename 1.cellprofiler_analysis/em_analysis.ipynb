{
 "cells": [
  {
   "attachments": {},
   "cell_type": "markdown",
   "metadata": {},
   "source": [
    "# Perform feature extraction for EM data using CellProfiler Parallel"
   ]
  },
  {
   "attachments": {},
   "cell_type": "markdown",
   "metadata": {},
   "source": [
    "## Import libraries"
   ]
  },
  {
   "cell_type": "code",
   "execution_count": 1,
   "metadata": {},
   "outputs": [],
   "source": [
    "import pathlib\n",
    "import pprint\n",
    "\n",
    "import sys\n",
    "\n",
    "sys.path.append(\"../utils\")\n",
    "import cp_parallel"
   ]
  },
  {
   "attachments": {},
   "cell_type": "markdown",
   "metadata": {},
   "source": [
    "## Set paths and variables"
   ]
  },
  {
   "cell_type": "code",
   "execution_count": 2,
   "metadata": {},
   "outputs": [],
   "source": [
    "# set the run type for the parallelization\n",
    "run_name = \"analysis\"\n",
    "\n",
    "# set main output dir for all plates\n",
    "output_dir = pathlib.Path(\"./analysis_output\")\n",
    "output_dir.mkdir(exist_ok=True)\n",
    "\n",
    "# directory where images and masks are located within folders\n",
    "images_dir = pathlib.Path(\"../0.download_data/data\").resolve(strict=True)\n",
    "\n",
    "# path to pipeline to perform feature extraction\n",
    "pipeline_path = pathlib.Path(\"./pipeline/3D_analysis.cppipe\")"
   ]
  },
  {
   "cell_type": "markdown",
   "metadata": {},
   "source": [
    "## Create dictionary with all info for data\n",
    "\n",
    "The CellProfiler Parallel command expects paths in a dictionary form (made for multiple plates to process)."
   ]
  },
  {
   "cell_type": "code",
   "execution_count": 3,
   "metadata": {},
   "outputs": [
    {
     "name": "stdout",
     "output_type": "stream",
     "text": [
      "{   'EM_data': {   'path_to_images': PosixPath('/home/jenna/ultrastructural_mitochonria_morphology_analysis/0.download_data/data'),\n",
      "                   'path_to_output': PosixPath('analysis_output'),\n",
      "                   'path_to_pipeline': PosixPath('pipeline/3D_analysis.cppipe')}}\n"
     ]
    }
   ],
   "source": [
    "# create plate info dictionary with specified plates for the CellProfiler CLI command\n",
    "plate_info_dictionary = {\n",
    "    \"EM_data\": {\n",
    "        \"path_to_images\": images_dir,\n",
    "        \"path_to_output\": output_dir,\n",
    "        \"path_to_pipeline\": pipeline_path\n",
    "    }\n",
    "}\n",
    "\n",
    "# view the dictionary to assess that all info is added correctly\n",
    "pprint.pprint(plate_info_dictionary, indent=4)"
   ]
  },
  {
   "attachments": {},
   "cell_type": "markdown",
   "metadata": {},
   "source": [
    "## Run analysis pipeline on each plate in parallel\n",
    "\n",
    "This cell is not finished to completion due to how long it would take. It is ran in the python file instead."
   ]
  },
  {
   "cell_type": "code",
   "execution_count": 4,
   "metadata": {},
   "outputs": [
    {
     "ename": "KeyboardInterrupt",
     "evalue": "",
     "output_type": "error",
     "traceback": [
      "\u001b[0;31m---------------------------------------------------------------------------\u001b[0m",
      "\u001b[0;31mKeyboardInterrupt\u001b[0m                         Traceback (most recent call last)",
      "Cell \u001b[0;32mIn[4], line 1\u001b[0m\n\u001b[0;32m----> 1\u001b[0m \u001b[43mcp_parallel\u001b[49m\u001b[38;5;241;43m.\u001b[39;49m\u001b[43mrun_cellprofiler_parallel\u001b[49m\u001b[43m(\u001b[49m\n\u001b[1;32m      2\u001b[0m \u001b[43m    \u001b[49m\u001b[43mplate_info_dictionary\u001b[49m\u001b[38;5;241;43m=\u001b[39;49m\u001b[43mplate_info_dictionary\u001b[49m\u001b[43m,\u001b[49m\u001b[43m \u001b[49m\u001b[43mrun_name\u001b[49m\u001b[38;5;241;43m=\u001b[39;49m\u001b[43mrun_name\u001b[49m\n\u001b[1;32m      3\u001b[0m \u001b[43m)\u001b[49m\n",
      "File \u001b[0;32m~/ultrastructural_mitochonria_morphology_analysis/1.cellprofiler_analysis/../utils/cp_parallel.py:126\u001b[0m, in \u001b[0;36mrun_cellprofiler_parallel\u001b[0;34m(plate_info_dictionary, run_name)\u001b[0m\n\u001b[1;32m    116\u001b[0m futures: List[Future] \u001b[38;5;241m=\u001b[39m [\n\u001b[1;32m    117\u001b[0m     executor\u001b[38;5;241m.\u001b[39msubmit(\n\u001b[1;32m    118\u001b[0m         subprocess\u001b[38;5;241m.\u001b[39mrun,\n\u001b[0;32m   (...)\u001b[0m\n\u001b[1;32m    122\u001b[0m     \u001b[38;5;28;01mfor\u001b[39;00m command \u001b[38;5;129;01min\u001b[39;00m commands\n\u001b[1;32m    123\u001b[0m ]\n\u001b[1;32m    125\u001b[0m \u001b[38;5;66;03m# the list of CompletedProcesses holds all the information from the CellProfiler run\u001b[39;00m\n\u001b[0;32m--> 126\u001b[0m results: List[subprocess\u001b[38;5;241m.\u001b[39mCompletedProcess] \u001b[38;5;241m=\u001b[39m [future\u001b[38;5;241m.\u001b[39mresult() \u001b[38;5;28;01mfor\u001b[39;00m future \u001b[38;5;129;01min\u001b[39;00m futures]\n\u001b[1;32m    128\u001b[0m \u001b[38;5;28mprint\u001b[39m(\u001b[38;5;124m\"\u001b[39m\u001b[38;5;124mAll processes have been completed!\u001b[39m\u001b[38;5;124m\"\u001b[39m)\n\u001b[1;32m    130\u001b[0m \u001b[38;5;66;03m# for each process, confirm that the process completed succesfully and return a log file\u001b[39;00m\n",
      "File \u001b[0;32m~/ultrastructural_mitochonria_morphology_analysis/1.cellprofiler_analysis/../utils/cp_parallel.py:126\u001b[0m, in \u001b[0;36m<listcomp>\u001b[0;34m(.0)\u001b[0m\n\u001b[1;32m    116\u001b[0m futures: List[Future] \u001b[38;5;241m=\u001b[39m [\n\u001b[1;32m    117\u001b[0m     executor\u001b[38;5;241m.\u001b[39msubmit(\n\u001b[1;32m    118\u001b[0m         subprocess\u001b[38;5;241m.\u001b[39mrun,\n\u001b[0;32m   (...)\u001b[0m\n\u001b[1;32m    122\u001b[0m     \u001b[38;5;28;01mfor\u001b[39;00m command \u001b[38;5;129;01min\u001b[39;00m commands\n\u001b[1;32m    123\u001b[0m ]\n\u001b[1;32m    125\u001b[0m \u001b[38;5;66;03m# the list of CompletedProcesses holds all the information from the CellProfiler run\u001b[39;00m\n\u001b[0;32m--> 126\u001b[0m results: List[subprocess\u001b[38;5;241m.\u001b[39mCompletedProcess] \u001b[38;5;241m=\u001b[39m [\u001b[43mfuture\u001b[49m\u001b[38;5;241;43m.\u001b[39;49m\u001b[43mresult\u001b[49m\u001b[43m(\u001b[49m\u001b[43m)\u001b[49m \u001b[38;5;28;01mfor\u001b[39;00m future \u001b[38;5;129;01min\u001b[39;00m futures]\n\u001b[1;32m    128\u001b[0m \u001b[38;5;28mprint\u001b[39m(\u001b[38;5;124m\"\u001b[39m\u001b[38;5;124mAll processes have been completed!\u001b[39m\u001b[38;5;124m\"\u001b[39m)\n\u001b[1;32m    130\u001b[0m \u001b[38;5;66;03m# for each process, confirm that the process completed succesfully and return a log file\u001b[39;00m\n",
      "File \u001b[0;32m~/mambaforge/envs/image_profiling_em_data/lib/python3.8/concurrent/futures/_base.py:439\u001b[0m, in \u001b[0;36mFuture.result\u001b[0;34m(self, timeout)\u001b[0m\n\u001b[1;32m    436\u001b[0m \u001b[38;5;28;01melif\u001b[39;00m \u001b[38;5;28mself\u001b[39m\u001b[38;5;241m.\u001b[39m_state \u001b[38;5;241m==\u001b[39m FINISHED:\n\u001b[1;32m    437\u001b[0m     \u001b[38;5;28;01mreturn\u001b[39;00m \u001b[38;5;28mself\u001b[39m\u001b[38;5;241m.\u001b[39m__get_result()\n\u001b[0;32m--> 439\u001b[0m \u001b[38;5;28;43mself\u001b[39;49m\u001b[38;5;241;43m.\u001b[39;49m\u001b[43m_condition\u001b[49m\u001b[38;5;241;43m.\u001b[39;49m\u001b[43mwait\u001b[49m\u001b[43m(\u001b[49m\u001b[43mtimeout\u001b[49m\u001b[43m)\u001b[49m\n\u001b[1;32m    441\u001b[0m \u001b[38;5;28;01mif\u001b[39;00m \u001b[38;5;28mself\u001b[39m\u001b[38;5;241m.\u001b[39m_state \u001b[38;5;129;01min\u001b[39;00m [CANCELLED, CANCELLED_AND_NOTIFIED]:\n\u001b[1;32m    442\u001b[0m     \u001b[38;5;28;01mraise\u001b[39;00m CancelledError()\n",
      "File \u001b[0;32m~/mambaforge/envs/image_profiling_em_data/lib/python3.8/threading.py:302\u001b[0m, in \u001b[0;36mCondition.wait\u001b[0;34m(self, timeout)\u001b[0m\n\u001b[1;32m    300\u001b[0m \u001b[38;5;28;01mtry\u001b[39;00m:    \u001b[38;5;66;03m# restore state no matter what (e.g., KeyboardInterrupt)\u001b[39;00m\n\u001b[1;32m    301\u001b[0m     \u001b[38;5;28;01mif\u001b[39;00m timeout \u001b[38;5;129;01mis\u001b[39;00m \u001b[38;5;28;01mNone\u001b[39;00m:\n\u001b[0;32m--> 302\u001b[0m         \u001b[43mwaiter\u001b[49m\u001b[38;5;241;43m.\u001b[39;49m\u001b[43macquire\u001b[49m\u001b[43m(\u001b[49m\u001b[43m)\u001b[49m\n\u001b[1;32m    303\u001b[0m         gotit \u001b[38;5;241m=\u001b[39m \u001b[38;5;28;01mTrue\u001b[39;00m\n\u001b[1;32m    304\u001b[0m     \u001b[38;5;28;01melse\u001b[39;00m:\n",
      "\u001b[0;31mKeyboardInterrupt\u001b[0m: "
     ]
    }
   ],
   "source": [
    "cp_parallel.run_cellprofiler_parallel(\n",
    "    plate_info_dictionary=plate_info_dictionary, run_name=run_name\n",
    ")"
   ]
  }
 ],
 "metadata": {
  "kernelspec": {
   "display_name": "nf1_cellpainting_data",
   "language": "python",
   "name": "python3"
  },
  "language_info": {
   "codemirror_mode": {
    "name": "ipython",
    "version": 3
   },
   "file_extension": ".py",
   "mimetype": "text/x-python",
   "name": "python",
   "nbconvert_exporter": "python",
   "pygments_lexer": "ipython3",
   "version": "3.8.19"
  },
  "orig_nbformat": 4
 },
 "nbformat": 4,
 "nbformat_minor": 2
}
