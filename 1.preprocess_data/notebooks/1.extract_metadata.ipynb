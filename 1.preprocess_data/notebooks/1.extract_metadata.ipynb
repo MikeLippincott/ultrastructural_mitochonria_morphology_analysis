{
 "cells": [
  {
   "cell_type": "code",
   "execution_count": 1,
   "metadata": {},
   "outputs": [],
   "source": [
    "import pathlib\n",
    "\n",
    "import pandas as pd"
   ]
  },
  {
   "cell_type": "code",
   "execution_count": 2,
   "metadata": {},
   "outputs": [],
   "source": [
    "path_to_data = pathlib.Path(\"../../data/images\").resolve(strict=True)"
   ]
  },
  {
   "cell_type": "code",
   "execution_count": 3,
   "metadata": {},
   "outputs": [],
   "source": [
    "# get all files in the data directory\n",
    "files = path_to_data.glob(\"*\")"
   ]
  },
  {
   "cell_type": "code",
   "execution_count": 4,
   "metadata": {},
   "outputs": [],
   "source": [
    "metadata_dict = {\n",
    "    \"condition\": [],\n",
    "    \"cell_number\": [],\n",
    "    \"mitochondria_number\": [],\n",
    "    \"file_type\": [],\n",
    "    \"file_name\": [],\n",
    "    \"file_path\": [],\n",
    "}"
   ]
  },
  {
   "cell_type": "code",
   "execution_count": 5,
   "metadata": {},
   "outputs": [],
   "source": [
    "for file in files:\n",
    "    metadata_dict[\"condition\"].append(file.stem.split(\"_\")[0])\n",
    "    metadata_dict[\"cell_number\"].append(file.stem.split(\"_\")[2])\n",
    "    metadata_dict[\"mitochondria_number\"].append(file.stem.split(\"_\")[3])\n",
    "    metadata_dict[\"file_type\"].append(file.stem.split(\"_\")[4])\n",
    "    metadata_dict[\"file_name\"].append(file.stem)\n",
    "    metadata_dict[\"file_path\"].append(file)"
   ]
  },
  {
   "cell_type": "code",
   "execution_count": 6,
   "metadata": {},
   "outputs": [
    {
     "name": "stdout",
     "output_type": "stream",
     "text": [
      "(1840, 6)\n"
     ]
    },
    {
     "data": {
      "text/html": [
       "<div>\n",
       "<style scoped>\n",
       "    .dataframe tbody tr th:only-of-type {\n",
       "        vertical-align: middle;\n",
       "    }\n",
       "\n",
       "    .dataframe tbody tr th {\n",
       "        vertical-align: top;\n",
       "    }\n",
       "\n",
       "    .dataframe thead th {\n",
       "        text-align: right;\n",
       "    }\n",
       "</style>\n",
       "<table border=\"1\" class=\"dataframe\">\n",
       "  <thead>\n",
       "    <tr style=\"text-align: right;\">\n",
       "      <th></th>\n",
       "      <th>condition</th>\n",
       "      <th>cell_number</th>\n",
       "      <th>mitochondria_number</th>\n",
       "      <th>file_type</th>\n",
       "      <th>file_name</th>\n",
       "      <th>file_path</th>\n",
       "    </tr>\n",
       "  </thead>\n",
       "  <tbody>\n",
       "    <tr>\n",
       "      <th>0</th>\n",
       "      <td>images</td>\n",
       "      <td>cell</td>\n",
       "      <td>004</td>\n",
       "      <td>0001</td>\n",
       "      <td>images_shCtrl_cell_004_0001_lamellar_cristae_imgs</td>\n",
       "      <td>/home/lippincm/Documents/4TB/data/ultrastrucur...</td>\n",
       "    </tr>\n",
       "    <tr>\n",
       "      <th>1</th>\n",
       "      <td>images</td>\n",
       "      <td>cell</td>\n",
       "      <td>003</td>\n",
       "      <td>0010</td>\n",
       "      <td>images_shCtrl_cell_003_0010_tubular_cristae_imgs</td>\n",
       "      <td>/home/lippincm/Documents/4TB/data/ultrastrucur...</td>\n",
       "    </tr>\n",
       "    <tr>\n",
       "      <th>2</th>\n",
       "      <td>images</td>\n",
       "      <td>cell</td>\n",
       "      <td>001</td>\n",
       "      <td>0134</td>\n",
       "      <td>images_shOPA1_cell_001_0134_ori_imgs</td>\n",
       "      <td>/home/lippincm/Documents/4TB/data/ultrastrucur...</td>\n",
       "    </tr>\n",
       "    <tr>\n",
       "      <th>3</th>\n",
       "      <td>images</td>\n",
       "      <td>cell</td>\n",
       "      <td>002</td>\n",
       "      <td>0097</td>\n",
       "      <td>images_shOPA1_cell_002_0097_mito_imgs</td>\n",
       "      <td>/home/lippincm/Documents/4TB/data/ultrastrucur...</td>\n",
       "    </tr>\n",
       "    <tr>\n",
       "      <th>4</th>\n",
       "      <td>images</td>\n",
       "      <td>cell</td>\n",
       "      <td>001</td>\n",
       "      <td>0091</td>\n",
       "      <td>images_shOPA1_cell_001_0091_mito_imgs</td>\n",
       "      <td>/home/lippincm/Documents/4TB/data/ultrastrucur...</td>\n",
       "    </tr>\n",
       "  </tbody>\n",
       "</table>\n",
       "</div>"
      ],
      "text/plain": [
       "  condition cell_number mitochondria_number file_type  \\\n",
       "0    images        cell                 004      0001   \n",
       "1    images        cell                 003      0010   \n",
       "2    images        cell                 001      0134   \n",
       "3    images        cell                 002      0097   \n",
       "4    images        cell                 001      0091   \n",
       "\n",
       "                                           file_name  \\\n",
       "0  images_shCtrl_cell_004_0001_lamellar_cristae_imgs   \n",
       "1   images_shCtrl_cell_003_0010_tubular_cristae_imgs   \n",
       "2               images_shOPA1_cell_001_0134_ori_imgs   \n",
       "3              images_shOPA1_cell_002_0097_mito_imgs   \n",
       "4              images_shOPA1_cell_001_0091_mito_imgs   \n",
       "\n",
       "                                           file_path  \n",
       "0  /home/lippincm/Documents/4TB/data/ultrastrucur...  \n",
       "1  /home/lippincm/Documents/4TB/data/ultrastrucur...  \n",
       "2  /home/lippincm/Documents/4TB/data/ultrastrucur...  \n",
       "3  /home/lippincm/Documents/4TB/data/ultrastrucur...  \n",
       "4  /home/lippincm/Documents/4TB/data/ultrastrucur...  "
      ]
     },
     "execution_count": 6,
     "metadata": {},
     "output_type": "execute_result"
    }
   ],
   "source": [
    "# make a dataframe from the dictionary\n",
    "metadata_df = pd.DataFrame(metadata_dict)\n",
    "print(metadata_df.shape)\n",
    "metadata_df.head()"
   ]
  },
  {
   "cell_type": "code",
   "execution_count": 7,
   "metadata": {},
   "outputs": [],
   "source": [
    "# save the metadata to a csv file\n",
    "metadata_df.to_csv(\"../../data/metadata.csv\", index=False)"
   ]
  }
 ],
 "metadata": {
  "kernelspec": {
   "display_name": "mito_em_env",
   "language": "python",
   "name": "python3"
  },
  "language_info": {
   "codemirror_mode": {
    "name": "ipython",
    "version": 3
   },
   "file_extension": ".py",
   "mimetype": "text/x-python",
   "name": "python",
   "nbconvert_exporter": "python",
   "pygments_lexer": "ipython3",
   "version": "3.9.19"
  }
 },
 "nbformat": 4,
 "nbformat_minor": 2
}
