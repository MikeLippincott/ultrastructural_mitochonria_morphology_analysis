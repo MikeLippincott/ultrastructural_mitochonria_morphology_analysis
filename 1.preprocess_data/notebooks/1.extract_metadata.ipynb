{
 "cells": [
  {
   "cell_type": "markdown",
   "metadata": {},
   "source": [
    "This notebook extracts metadata from the dataset file and creates a metadata csv file."
   ]
  },
  {
   "cell_type": "code",
   "execution_count": 1,
   "metadata": {},
   "outputs": [],
   "source": [
    "import pathlib\n",
    "\n",
    "import pandas as pd"
   ]
  },
  {
   "cell_type": "code",
   "execution_count": 2,
   "metadata": {},
   "outputs": [],
   "source": [
    "# create and error\n",
    "def create_error(file: str):\n",
    "    \"\"\"\n",
    "    Raises an error if the proper substring is not found in the image file name\n",
    "\n",
    "    Parameters\n",
    "    ----------\n",
    "    file : str\n",
    "        string of the file path to the image\n",
    "\n",
    "    Raises\n",
    "    ------\n",
    "    ValueError\n",
    "        Raises an error if the proper substring is not found in the image file name\n",
    "    \"\"\"\n",
    "    raise ValueError(f\"Unknown image category type: {file.stem.split('_')[5]}\")"
   ]
  },
  {
   "cell_type": "code",
   "execution_count": 3,
   "metadata": {},
   "outputs": [],
   "source": [
    "path_to_data = pathlib.Path(\"../../data/raw_images\").resolve(strict=True)"
   ]
  },
  {
   "cell_type": "code",
   "execution_count": 4,
   "metadata": {},
   "outputs": [],
   "source": [
    "# get all files in the data directory\n",
    "all_image_files = path_to_data.glob(\"*.tiff\")"
   ]
  },
  {
   "cell_type": "code",
   "execution_count": 5,
   "metadata": {},
   "outputs": [],
   "source": [
    "metadata_dict = {\n",
    "    \"condition\": [],\n",
    "    \"cell_id\": [],\n",
    "    \"mitochondria_id\": [],\n",
    "    \"image_label\": [],\n",
    "    \"image_category_type\": [],\n",
    "    \"file_name\": [],\n",
    "    \"file_path\": [],\n",
    "}"
   ]
  },
  {
   "cell_type": "code",
   "execution_count": 6,
   "metadata": {},
   "outputs": [
    {
     "name": "stdout",
     "output_type": "stream",
     "text": [
      "images shOPA1 cell 001 0118 mito\n"
     ]
    }
   ],
   "source": [
    "for file in all_image_files:\n",
    "    metadata_dict[\"condition\"].append(file.stem.split(\"_\")[1])\n",
    "    metadata_dict[\"cell_id\"].append(file.stem.split(\"_\")[3])\n",
    "    metadata_dict[\"mitochondria_id\"].append(file.stem.split(\"_\")[4])\n",
    "    metadata_dict[\"image_label\"].append(file.stem.split(\"_\")[5])\n",
    "    if file.stem.split(\"_\")[5] == \"tubular\":\n",
    "        metadata_dict[\"image_category_type\"].append(\"tubular_cristae_mask\")\n",
    "    elif file.stem.split(\"_\")[5] == \"ori\":\n",
    "        metadata_dict[\"image_category_type\"].append(\"original_EM_image\")\n",
    "    elif file.stem.split(\"_\")[5] == \"mito\":\n",
    "        metadata_dict[\"image_category_type\"].append(\"mitochondria_mask\")\n",
    "    elif file.stem.split(\"_\")[5] == \"lamellar\":\n",
    "        metadata_dict[\"image_category_type\"].append(\"lamellar_cristae_mask\")\n",
    "    else:\n",
    "        create_error(file)\n",
    "    metadata_dict[\"file_name\"].append(file.stem)\n",
    "    metadata_dict[\"file_path\"].append(file)\n",
    "print(\n",
    "    file.stem.split(\"_\")[0],\n",
    "    file.stem.split(\"_\")[1],\n",
    "    file.stem.split(\"_\")[2],\n",
    "    file.stem.split(\"_\")[3],\n",
    "    file.stem.split(\"_\")[4],\n",
    "    file.stem.split(\"_\")[5],\n",
    ")"
   ]
  },
  {
   "cell_type": "code",
   "execution_count": 7,
   "metadata": {},
   "outputs": [
    {
     "name": "stdout",
     "output_type": "stream",
     "text": [
      "(1840, 6)\n"
     ]
    },
    {
     "data": {
      "text/html": [
       "<div>\n",
       "<style scoped>\n",
       "    .dataframe tbody tr th:only-of-type {\n",
       "        vertical-align: middle;\n",
       "    }\n",
       "\n",
       "    .dataframe tbody tr th {\n",
       "        vertical-align: top;\n",
       "    }\n",
       "\n",
       "    .dataframe thead th {\n",
       "        text-align: right;\n",
       "    }\n",
       "</style>\n",
       "<table border=\"1\" class=\"dataframe\">\n",
       "  <thead>\n",
       "    <tr style=\"text-align: right;\">\n",
       "      <th></th>\n",
       "      <th>condition</th>\n",
       "      <th>cell_id</th>\n",
       "      <th>mitochondria_id</th>\n",
       "      <th>image_category_type</th>\n",
       "      <th>file_name</th>\n",
       "      <th>file_path</th>\n",
       "    </tr>\n",
       "  </thead>\n",
       "  <tbody>\n",
       "    <tr>\n",
       "      <th>0</th>\n",
       "      <td>shCtrl</td>\n",
       "      <td>4</td>\n",
       "      <td>1</td>\n",
       "      <td>lamellar_cristae_mask</td>\n",
       "      <td>images_shCtrl_cell_004_0001_lamellar_cristae_imgs</td>\n",
       "      <td>/home/lippincm/Documents/4TB/data/ultrastrucur...</td>\n",
       "    </tr>\n",
       "    <tr>\n",
       "      <th>1</th>\n",
       "      <td>shCtrl</td>\n",
       "      <td>3</td>\n",
       "      <td>10</td>\n",
       "      <td>tubular_cristae_mask</td>\n",
       "      <td>images_shCtrl_cell_003_0010_tubular_cristae_imgs</td>\n",
       "      <td>/home/lippincm/Documents/4TB/data/ultrastrucur...</td>\n",
       "    </tr>\n",
       "    <tr>\n",
       "      <th>2</th>\n",
       "      <td>shOPA1</td>\n",
       "      <td>1</td>\n",
       "      <td>134</td>\n",
       "      <td>original_EM_image</td>\n",
       "      <td>images_shOPA1_cell_001_0134_ori_imgs</td>\n",
       "      <td>/home/lippincm/Documents/4TB/data/ultrastrucur...</td>\n",
       "    </tr>\n",
       "    <tr>\n",
       "      <th>3</th>\n",
       "      <td>shOPA1</td>\n",
       "      <td>2</td>\n",
       "      <td>97</td>\n",
       "      <td>mitochondria_mask</td>\n",
       "      <td>images_shOPA1_cell_002_0097_mito_imgs</td>\n",
       "      <td>/home/lippincm/Documents/4TB/data/ultrastrucur...</td>\n",
       "    </tr>\n",
       "    <tr>\n",
       "      <th>4</th>\n",
       "      <td>shOPA1</td>\n",
       "      <td>1</td>\n",
       "      <td>91</td>\n",
       "      <td>mitochondria_mask</td>\n",
       "      <td>images_shOPA1_cell_001_0091_mito_imgs</td>\n",
       "      <td>/home/lippincm/Documents/4TB/data/ultrastrucur...</td>\n",
       "    </tr>\n",
       "  </tbody>\n",
       "</table>\n",
       "</div>"
      ],
      "text/plain": [
       "  condition  cell_id  mitochondria_id    image_category_type  \\\n",
       "0    shCtrl        4                1  lamellar_cristae_mask   \n",
       "1    shCtrl        3               10   tubular_cristae_mask   \n",
       "2    shOPA1        1              134      original_EM_image   \n",
       "3    shOPA1        2               97      mitochondria_mask   \n",
       "4    shOPA1        1               91      mitochondria_mask   \n",
       "\n",
       "                                           file_name  \\\n",
       "0  images_shCtrl_cell_004_0001_lamellar_cristae_imgs   \n",
       "1   images_shCtrl_cell_003_0010_tubular_cristae_imgs   \n",
       "2               images_shOPA1_cell_001_0134_ori_imgs   \n",
       "3              images_shOPA1_cell_002_0097_mito_imgs   \n",
       "4              images_shOPA1_cell_001_0091_mito_imgs   \n",
       "\n",
       "                                           file_path  \n",
       "0  /home/lippincm/Documents/4TB/data/ultrastrucur...  \n",
       "1  /home/lippincm/Documents/4TB/data/ultrastrucur...  \n",
       "2  /home/lippincm/Documents/4TB/data/ultrastrucur...  \n",
       "3  /home/lippincm/Documents/4TB/data/ultrastrucur...  \n",
       "4  /home/lippincm/Documents/4TB/data/ultrastrucur...  "
      ]
     },
     "execution_count": 7,
     "metadata": {},
     "output_type": "execute_result"
    }
   ],
   "source": [
    "# make a dataframe from the dictionary\n",
    "metadata_df = pd.DataFrame(metadata_dict)\n",
    "# drop the image label column\n",
    "metadata_df = metadata_df.drop(columns=[\"image_label\"])\n",
    "# make columns the correct data type\n",
    "metadata_df[\"condition\"] = metadata_df[\"condition\"].astype(\"category\")\n",
    "metadata_df[\"cell_id\"] = metadata_df[\"cell_id\"].astype(\"int\")\n",
    "metadata_df[\"mitochondria_id\"] = metadata_df[\"mitochondria_id\"].astype(\"int\")\n",
    "metadata_df[\"image_category_type\"] = metadata_df[\"image_category_type\"].astype(\n",
    "    \"category\"\n",
    ")\n",
    "metadata_df[\"file_name\"] = metadata_df[\"file_name\"].astype(\"str\")\n",
    "metadata_df[\"file_path\"] = metadata_df[\"file_path\"].astype(\"str\")\n",
    "print(metadata_df.shape)\n",
    "metadata_df.head()"
   ]
  },
  {
   "cell_type": "code",
   "execution_count": 8,
   "metadata": {},
   "outputs": [],
   "source": [
    "# save the metadata to a csv file\n",
    "metadata_df.to_csv(\"../../data/metadata.csv\", index=False)"
   ]
  }
 ],
 "metadata": {
  "kernelspec": {
   "display_name": "mito_em_env",
   "language": "python",
   "name": "python3"
  },
  "language_info": {
   "codemirror_mode": {
    "name": "ipython",
    "version": 3
   },
   "file_extension": ".py",
   "mimetype": "text/x-python",
   "name": "python",
   "nbconvert_exporter": "python",
   "pygments_lexer": "ipython3",
   "version": "3.9.19"
  }
 },
 "nbformat": 4,
 "nbformat_minor": 2
}
