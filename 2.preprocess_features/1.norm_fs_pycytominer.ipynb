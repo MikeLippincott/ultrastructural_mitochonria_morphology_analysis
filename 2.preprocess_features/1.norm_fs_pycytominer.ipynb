{
 "cells": [
  {
   "cell_type": "markdown",
   "metadata": {},
   "source": [
    "# Perform data preprocessing with pycytominer on each compartment file"
   ]
  },
  {
   "cell_type": "markdown",
   "metadata": {},
   "source": [
    "## Import libraries"
   ]
  },
  {
   "cell_type": "code",
   "execution_count": 1,
   "metadata": {},
   "outputs": [],
   "source": [
    "import pathlib\n",
    "\n",
    "import pandas as pd\n",
    "from pycytominer import normalize, feature_select\n",
    "from pycytominer.cyto_utils import infer_cp_features"
   ]
  },
  {
   "cell_type": "markdown",
   "metadata": {},
   "source": [
    "## Set paths and variables"
   ]
  },
  {
   "cell_type": "code",
   "execution_count": 2,
   "metadata": {},
   "outputs": [
    {
     "name": "stdout",
     "output_type": "stream",
     "text": [
      "profiles/converted_profiles/per_tubular.parquet\n",
      "profiles/converted_profiles/per_lamellar.parquet\n",
      "profiles/converted_profiles/per_image.parquet\n",
      "profiles/converted_profiles/per_mito.parquet\n"
     ]
    }
   ],
   "source": [
    "# operations to perform for feature selection\n",
    "feature_select_ops = [\n",
    "    \"variance_threshold\",\n",
    "    \"correlation_threshold\",\n",
    "    \"blocklist\",\n",
    "    \"drop_na_columns\"\n",
    "]\n",
    "\n",
    "# Output directory for processed profiles\n",
    "output_dir = pathlib.Path(\"./profiles/processed_profiles\")\n",
    "output_dir.mkdir(parents=True, exist_ok=True)\n",
    "\n",
    "# Path to CytoTable converted profiles for each object\n",
    "converted_profiles_dir = pathlib.Path(\"./profiles/converted_profiles/\").resolve(strict=True)\n",
    "\n",
    "# List all the converted files in the directory\n",
    "converted_files = [file for file in converted_profiles_dir.iterdir() if file.is_file()]\n",
    "\n",
    "# Print the converted files that will be processed\n",
    "for file in converted_files:\n",
    "    print(file)"
   ]
  },
  {
   "cell_type": "markdown",
   "metadata": {},
   "source": [
    "## Perform preprocessing on single cell features"
   ]
  },
  {
   "cell_type": "code",
   "execution_count": 3,
   "metadata": {},
   "outputs": [
    {
     "name": "stdout",
     "output_type": "stream",
     "text": [
      "Performing pycytominer pipeline for per_tubular\n",
      "Normalization and feature selection have been performed for per_tubular\n",
      "Performing pycytominer pipeline for per_lamellar\n",
      "Normalization and feature selection have been performed for per_lamellar\n",
      "Performing pycytominer pipeline for per_image\n"
     ]
    },
    {
     "name": "stderr",
     "output_type": "stream",
     "text": [
      "/home/jenna/mambaforge/envs/image_profiling_em_data/lib/python3.8/site-packages/sklearn/utils/extmath.py:1050: RuntimeWarning: invalid value encountered in divide\n",
      "  updated_mean = (last_sum + new_sum) / updated_sample_count\n",
      "/home/jenna/mambaforge/envs/image_profiling_em_data/lib/python3.8/site-packages/sklearn/utils/extmath.py:1055: RuntimeWarning: invalid value encountered in divide\n",
      "  T = new_sum / new_sample_count\n",
      "/home/jenna/mambaforge/envs/image_profiling_em_data/lib/python3.8/site-packages/sklearn/utils/extmath.py:1075: RuntimeWarning: invalid value encountered in divide\n",
      "  new_unnormalized_variance -= correction**2 / new_sample_count\n"
     ]
    },
    {
     "name": "stdout",
     "output_type": "stream",
     "text": [
      "Normalization and feature selection have been performed for per_image\n",
      "Performing pycytominer pipeline for per_mito\n",
      "Normalization and feature selection have been performed for per_mito\n"
     ]
    }
   ],
   "source": [
    "for file in converted_files:\n",
    "    print(f\"Performing pycytominer pipeline for {file.stem}\")\n",
    "    output_normalized_file = str(\n",
    "        pathlib.Path(f\"{output_dir}/{file.stem}_normalized.parquet\")\n",
    "    )\n",
    "    output_feature_select_file = str(\n",
    "        pathlib.Path(f\"{output_dir}/{file.stem}_feature_selected.parquet\")\n",
    "    )\n",
    "\n",
    "    # Load in file to process\n",
    "    df = pd.read_parquet(file)\n",
    "\n",
    "    # Set the compartment name to find in the data frame (must be capitalized)\n",
    "    compartment_name = file.stem.split(\"_\")[1].capitalize()\n",
    "\n",
    "    # Find the cp features based on the mask name or image\n",
    "    cp_features = infer_cp_features(population_df=df, compartments=[compartment_name])\n",
    "\n",
    "    # Find the metadata features\n",
    "    meta_features = infer_cp_features(population_df=df, compartments=[compartment_name], metadata=True)\n",
    "\n",
    "    # Step 2: Normalization\n",
    "    normalize(\n",
    "        profiles=df,\n",
    "        method=\"standardize\",\n",
    "        features=cp_features,\n",
    "        meta_features=meta_features,\n",
    "        output_file=output_normalized_file,\n",
    "        output_type=\"parquet\",\n",
    "    )\n",
    "\n",
    "    # Step 3: Feature selection\n",
    "    feature_select(\n",
    "        output_normalized_file,\n",
    "        operation=feature_select_ops,\n",
    "        na_cutoff=0,\n",
    "        features=cp_features,\n",
    "        output_file=output_feature_select_file,\n",
    "        output_type=\"parquet\",\n",
    "    )\n",
    "\n",
    "    print(\n",
    "        f\"Normalization and feature selection have been performed for {file.stem}\"\n",
    "    )"
   ]
  },
  {
   "cell_type": "markdown",
   "metadata": {},
   "source": [
    "## Check example output file to confirm that the process worked"
   ]
  },
  {
   "cell_type": "code",
   "execution_count": 4,
   "metadata": {},
   "outputs": [
    {
     "name": "stdout",
     "output_type": "stream",
     "text": [
      "(459, 97)\n"
     ]
    },
    {
     "data": {
      "text/html": [
       "<div>\n",
       "<style scoped>\n",
       "    .dataframe tbody tr th:only-of-type {\n",
       "        vertical-align: middle;\n",
       "    }\n",
       "\n",
       "    .dataframe tbody tr th {\n",
       "        vertical-align: top;\n",
       "    }\n",
       "\n",
       "    .dataframe thead th {\n",
       "        text-align: right;\n",
       "    }\n",
       "</style>\n",
       "<table border=\"1\" class=\"dataframe\">\n",
       "  <thead>\n",
       "    <tr style=\"text-align: right;\">\n",
       "      <th></th>\n",
       "      <th>Metadata_ImageNumber</th>\n",
       "      <th>Metadata_Cell_ID</th>\n",
       "      <th>Metadata_Condition</th>\n",
       "      <th>Metadata_Mito_ID</th>\n",
       "      <th>Metadata_Mito_Number_Object_Number</th>\n",
       "      <th>Mito_AreaShape_BoundingBoxMaximum_X</th>\n",
       "      <th>Mito_AreaShape_BoundingBoxMaximum_Z</th>\n",
       "      <th>Mito_AreaShape_BoundingBoxVolume</th>\n",
       "      <th>Mito_AreaShape_Center_Y</th>\n",
       "      <th>Mito_AreaShape_EulerNumber</th>\n",
       "      <th>...</th>\n",
       "      <th>Mito_Texture_InverseDifferenceMoment_Mitochondria_3_04_256</th>\n",
       "      <th>Mito_Texture_InverseDifferenceMoment_Mitochondria_3_05_256</th>\n",
       "      <th>Mito_Texture_InverseDifferenceMoment_Mitochondria_3_06_256</th>\n",
       "      <th>Mito_Texture_InverseDifferenceMoment_Mitochondria_3_07_256</th>\n",
       "      <th>Mito_Texture_InverseDifferenceMoment_Mitochondria_3_08_256</th>\n",
       "      <th>Mito_Texture_InverseDifferenceMoment_Mitochondria_3_09_256</th>\n",
       "      <th>Mito_Texture_InverseDifferenceMoment_Mitochondria_3_10_256</th>\n",
       "      <th>Mito_Texture_InverseDifferenceMoment_Mitochondria_3_11_256</th>\n",
       "      <th>Mito_Texture_InverseDifferenceMoment_Mitochondria_3_12_256</th>\n",
       "      <th>Mito_Texture_SumVariance_Mitochondria_3_08_256</th>\n",
       "    </tr>\n",
       "  </thead>\n",
       "  <tbody>\n",
       "    <tr>\n",
       "      <th>0</th>\n",
       "      <td>1</td>\n",
       "      <td>cell_001</td>\n",
       "      <td>shCtrl</td>\n",
       "      <td>0001</td>\n",
       "      <td>1</td>\n",
       "      <td>0.428290</td>\n",
       "      <td>0.159100</td>\n",
       "      <td>0.000491</td>\n",
       "      <td>0.624221</td>\n",
       "      <td>2.419534</td>\n",
       "      <td>...</td>\n",
       "      <td>0.556266</td>\n",
       "      <td>1.141136</td>\n",
       "      <td>-0.504030</td>\n",
       "      <td>-0.250619</td>\n",
       "      <td>0.119015</td>\n",
       "      <td>0.023412</td>\n",
       "      <td>-0.334441</td>\n",
       "      <td>-0.737432</td>\n",
       "      <td>-0.054884</td>\n",
       "      <td>0.130932</td>\n",
       "    </tr>\n",
       "    <tr>\n",
       "      <th>1</th>\n",
       "      <td>2</td>\n",
       "      <td>cell_001</td>\n",
       "      <td>shCtrl</td>\n",
       "      <td>0002</td>\n",
       "      <td>1</td>\n",
       "      <td>0.348931</td>\n",
       "      <td>-0.150598</td>\n",
       "      <td>-0.057103</td>\n",
       "      <td>0.186061</td>\n",
       "      <td>-0.100661</td>\n",
       "      <td>...</td>\n",
       "      <td>-0.263411</td>\n",
       "      <td>-0.978730</td>\n",
       "      <td>0.211009</td>\n",
       "      <td>-0.854785</td>\n",
       "      <td>-0.936465</td>\n",
       "      <td>0.346005</td>\n",
       "      <td>-0.406445</td>\n",
       "      <td>0.232980</td>\n",
       "      <td>0.260963</td>\n",
       "      <td>-0.335407</td>\n",
       "    </tr>\n",
       "  </tbody>\n",
       "</table>\n",
       "<p>2 rows × 97 columns</p>\n",
       "</div>"
      ],
      "text/plain": [
       "   Metadata_ImageNumber Metadata_Cell_ID Metadata_Condition Metadata_Mito_ID  \\\n",
       "0                     1         cell_001             shCtrl             0001   \n",
       "1                     2         cell_001             shCtrl             0002   \n",
       "\n",
       "   Metadata_Mito_Number_Object_Number  Mito_AreaShape_BoundingBoxMaximum_X  \\\n",
       "0                                   1                             0.428290   \n",
       "1                                   1                             0.348931   \n",
       "\n",
       "   Mito_AreaShape_BoundingBoxMaximum_Z  Mito_AreaShape_BoundingBoxVolume  \\\n",
       "0                             0.159100                          0.000491   \n",
       "1                            -0.150598                         -0.057103   \n",
       "\n",
       "   Mito_AreaShape_Center_Y  Mito_AreaShape_EulerNumber  ...  \\\n",
       "0                 0.624221                    2.419534  ...   \n",
       "1                 0.186061                   -0.100661  ...   \n",
       "\n",
       "   Mito_Texture_InverseDifferenceMoment_Mitochondria_3_04_256  \\\n",
       "0                                           0.556266            \n",
       "1                                          -0.263411            \n",
       "\n",
       "   Mito_Texture_InverseDifferenceMoment_Mitochondria_3_05_256  \\\n",
       "0                                           1.141136            \n",
       "1                                          -0.978730            \n",
       "\n",
       "   Mito_Texture_InverseDifferenceMoment_Mitochondria_3_06_256  \\\n",
       "0                                          -0.504030            \n",
       "1                                           0.211009            \n",
       "\n",
       "   Mito_Texture_InverseDifferenceMoment_Mitochondria_3_07_256  \\\n",
       "0                                          -0.250619            \n",
       "1                                          -0.854785            \n",
       "\n",
       "   Mito_Texture_InverseDifferenceMoment_Mitochondria_3_08_256  \\\n",
       "0                                           0.119015            \n",
       "1                                          -0.936465            \n",
       "\n",
       "   Mito_Texture_InverseDifferenceMoment_Mitochondria_3_09_256  \\\n",
       "0                                           0.023412            \n",
       "1                                           0.346005            \n",
       "\n",
       "   Mito_Texture_InverseDifferenceMoment_Mitochondria_3_10_256  \\\n",
       "0                                          -0.334441            \n",
       "1                                          -0.406445            \n",
       "\n",
       "   Mito_Texture_InverseDifferenceMoment_Mitochondria_3_11_256  \\\n",
       "0                                          -0.737432            \n",
       "1                                           0.232980            \n",
       "\n",
       "   Mito_Texture_InverseDifferenceMoment_Mitochondria_3_12_256  \\\n",
       "0                                          -0.054884            \n",
       "1                                           0.260963            \n",
       "\n",
       "   Mito_Texture_SumVariance_Mitochondria_3_08_256  \n",
       "0                                        0.130932  \n",
       "1                                       -0.335407  \n",
       "\n",
       "[2 rows x 97 columns]"
      ]
     },
     "execution_count": 4,
     "metadata": {},
     "output_type": "execute_result"
    }
   ],
   "source": [
    "# Check output file\n",
    "test_df = pd.read_parquet(output_feature_select_file)\n",
    "\n",
    "print(test_df.shape)\n",
    "test_df.head(2)"
   ]
  }
 ],
 "metadata": {
  "kernelspec": {
   "display_name": "durbin_lab_env",
   "language": "python",
   "name": "python3"
  },
  "language_info": {
   "codemirror_mode": {
    "name": "ipython",
    "version": 3
   },
   "file_extension": ".py",
   "mimetype": "text/x-python",
   "name": "python",
   "nbconvert_exporter": "python",
   "pygments_lexer": "ipython3",
   "version": "3.8.19"
  },
  "orig_nbformat": 4
 },
 "nbformat": 4,
 "nbformat_minor": 2
}
